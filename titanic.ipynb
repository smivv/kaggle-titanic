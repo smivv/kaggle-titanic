{
 "cells": [
  {
   "cell_type": "code",
   "execution_count": 37,
   "metadata": {
    "collapsed": true
   },
   "outputs": [],
   "source": [
    "import os\n",
    "import numpy\n",
    "import pandas\n",
    "import matplotlib\n",
    "\n",
    "from sklearn.model_selection import train_test_split\n",
    "from sklearn.feature_extraction.dict_vectorizer import DictVectorizer\n",
    "from sklearn.linear_model.logistic import LogisticRegression\n",
    "from sklearn.metrics.classification import classification_report, accuracy_score, confusion_matrix\n",
    "from sklearn.naive_bayes import GaussianNB\n",
    "from sklearn.tree.tree import DecisionTreeClassifier\n",
    "from sklearn.ensemble import RandomForestClassifier\n",
    "from sklearn.svm import SVC\n",
    "\n",
    "from sklearn.preprocessing import MinMaxScaler\n",
    "\n",
    "from sklearn.decomposition import PCA\n",
    "\n",
    "import matplotlib.pyplot as plt\n",
    "%matplotlib inline\n",
    "\n",
    "cols = numpy.array(['PassengerId', 'Survived' 'Pclass', 'Name', 'Sex', 'Age',\n",
    "                    'SibSp', 'Parch', 'Ticket', 'Fare', 'Cabin', 'Embarked'])\n",
    "\n",
    "# numeric columns\n",
    "num_cols = ['PassengerId', 'Pclass', 'Age', 'SibSp', 'Parch', 'Fare']\n"
   ]
  },
  {
   "cell_type": "code",
   "execution_count": 28,
   "metadata": {},
   "outputs": [
    {
     "name": "stdout",
     "output_type": "stream",
     "text": [
      "   PassengerId  Pclass                                               Name  \\\n0            1       3                            Braund, Mr. Owen Harris   \n1            2       1  Cumings, Mrs. John Bradley (Florence Briggs Th...   \n2            3       3                             Heikkinen, Miss. Laina   \n3            4       1       Futrelle, Mrs. Jacques Heath (Lily May Peel)   \n4            5       3                           Allen, Mr. William Henry   \n5            6       3                                   Moran, Mr. James   \n6            7       1                            McCarthy, Mr. Timothy J   \n7            8       3                     Palsson, Master. Gosta Leonard   \n8            9       3  Johnson, Mrs. Oscar W (Elisabeth Vilhelmina Berg)   \n9           10       2                Nasser, Mrs. Nicholas (Adele Achem)   \n\n      Sex   Age  SibSp  Parch            Ticket     Fare Cabin Embarked  \n0    male  22.0      1      0         A/5 21171   7.2500   NaN        S  \n1  female  38.0      1      0          PC 17599  71.2833   C85        C  \n2  female  26.0      0      0  STON/O2. 3101282   7.9250   NaN        S  \n3  female  35.0      1      0            113803  53.1000  C123        S  \n4    male  35.0      0      0            373450   8.0500   NaN        S  \n5    male   NaN      0      0            330877   8.4583   NaN        Q  \n6    male  54.0      0      0             17463  51.8625   E46        S  \n7    male   2.0      3      1            349909  21.0750   NaN        S  \n8  female  27.0      0      2            347742  11.1333   NaN        S  \n9  female  14.0      1      0            237736  30.0708   NaN        C  \n"
     ]
    }
   ],
   "source": [
    "df_train = pandas.read_csv('./data/train.csv')\n",
    "df_test = pandas.read_csv('./data/test.csv')\n",
    "\n",
    "print(df_train.head(10))\n"
   ]
  },
  {
   "cell_type": "code",
   "execution_count": 20,
   "metadata": {},
   "outputs": [
    {
     "name": "stdout",
     "output_type": "stream",
     "text": [
      "  Cabin Embarked                                               Name     Sex  \\\n0   NaN        S                            Braund, Mr. Owen Harris    male   \n1   C85        C  Cumings, Mrs. John Bradley (Florence Briggs Th...  female   \n2   NaN        S                             Heikkinen, Miss. Laina  female   \n3  C123        S       Futrelle, Mrs. Jacques Heath (Lily May Peel)  female   \n4   NaN        S                           Allen, Mr. William Henry    male   \n5   NaN        Q                                   Moran, Mr. James    male   \n6   E46        S                            McCarthy, Mr. Timothy J    male   \n7   NaN        S                     Palsson, Master. Gosta Leonard    male   \n8   NaN        S  Johnson, Mrs. Oscar W (Elisabeth Vilhelmina Berg)  female   \n9   NaN        C                Nasser, Mrs. Nicholas (Adele Achem)  female   \n\n             Ticket  \n0         A/5 21171  \n1          PC 17599  \n2  STON/O2. 3101282  \n3            113803  \n4            373450  \n5            330877  \n6             17463  \n7            349909  \n8            347742  \n9            237736  \n"
     ]
    }
   ],
   "source": [
    "X_train, y_train = df_train.loc[:, df_train.columns != 'Survived'], df_train.loc[:, df_train.columns == 'Survived']\n",
    "\n",
    "X_test, y_test = df_test.loc[:, df_test.columns != 'Survived'], df_test.loc[:, df_test.columns == 'Survived']\n"
   ]
  },
  {
   "cell_type": "code",
   "execution_count": 39,
   "metadata": {},
   "outputs": [
    {
     "name": "stdout",
     "output_type": "stream",
     "text": [
      "  Cabin Embarked                                               Name     Sex  \\\n0   NaN        S                            Braund, Mr. Owen Harris    male   \n1   C85        C  Cumings, Mrs. John Bradley (Florence Briggs Th...  female   \n2   NaN        S                             Heikkinen, Miss. Laina  female   \n3  C123        S       Futrelle, Mrs. Jacques Heath (Lily May Peel)  female   \n4   NaN        S                           Allen, Mr. William Henry    male   \n5   NaN        Q                                   Moran, Mr. James    male   \n6   E46        S                            McCarthy, Mr. Timothy J    male   \n7   NaN        S                     Palsson, Master. Gosta Leonard    male   \n8   NaN        S  Johnson, Mrs. Oscar W (Elisabeth Vilhelmina Berg)  female   \n9   NaN        C                Nasser, Mrs. Nicholas (Adele Achem)  female   \n\n             Ticket  \n0         A/5 21171  \n1          PC 17599  \n2  STON/O2. 3101282  \n3            113803  \n4            373450  \n5            330877  \n6             17463  \n7            349909  \n8            347742  \n9            237736  \n"
     ]
    }
   ],
   "source": [
    "# numeric attributs\n",
    "x_num_train = X_train[X_train.columns.difference(num_cols)]\n",
    "x_num_test = X_test[X_test.columns.difference(num_cols)]\n",
    "\n",
    "print(x_num_train.head(10))"
   ]
  },
  {
   "cell_type": "code",
   "execution_count": null,
   "metadata": {},
   "outputs": [
    {
     "name": "stdout",
     "output_type": "stream",
     "text": [
      "  Cabin Embarked                                               Name     Sex  \\\n0   NaN        S                            Braund, Mr. Owen Harris    male   \n1   C85        C  Cumings, Mrs. John Bradley (Florence Briggs Th...  female   \n2   NaN        S                             Heikkinen, Miss. Laina  female   \n3  C123        S       Futrelle, Mrs. Jacques Heath (Lily May Peel)  female   \n4   NaN        S                           Allen, Mr. William Henry    male   \n5   NaN        Q                                   Moran, Mr. James    male   \n6   E46        S                            McCarthy, Mr. Timothy J    male   \n7   NaN        S                     Palsson, Master. Gosta Leonard    male   \n8   NaN        S  Johnson, Mrs. Oscar W (Elisabeth Vilhelmina Berg)  female   \n9   NaN        C                Nasser, Mrs. Nicholas (Adele Achem)  female   \n\n             Ticket  \n0         A/5 21171  \n1          PC 17599  \n2  STON/O2. 3101282  \n3            113803  \n4            373450  \n5            330877  \n6             17463  \n7            349909  \n8            347742  \n9            237736  \n"
     ]
    }
   ],
   "source": [
    "\n",
    "# scale to <0,1>\n",
    "x_num_train = MinMaxScaler().fit(x_num_train)\n",
    "x_num_test = MinMaxScaler().fit(x_num_test)\n",
    "# max_train = numpy.amax(x_num_train, 0)\n",
    "# max_test = numpy.amax(x_num_test, 0)        # not really needed\n",
    "# \n",
    "# x_num_train = x_num_train / max_train\n",
    "# x_num_test = x_num_test / max_train        # scale test by max_train\n",
    "\n",
    "x_num_train.fillna(x_num_train.mean(), inplace=True)\n",
    "x_num_test.fillna(x_num_test.mean(), inplace=True)\n",
    "\n",
    "# labels or target attribute\n",
    "y_train = y_train.astype(int)\n",
    "y_test = y_test.astype(int)\n",
    "\n",
    "\n",
    "print(x_num_train[:10])\n"
   ]
  },
  {
   "cell_type": "code",
   "execution_count": null,
   "metadata": {},
   "outputs": [
    {
     "name": "stdout",
     "output_type": "stream",
     "text": [
      "  Cabin Embarked                                               Name     Sex  \\\n0   NaN        S                            Braund, Mr. Owen Harris    male   \n1   C85        C  Cumings, Mrs. John Bradley (Florence Briggs Th...  female   \n2   NaN        S                             Heikkinen, Miss. Laina  female   \n3  C123        S       Futrelle, Mrs. Jacques Heath (Lily May Peel)  female   \n4   NaN        S                           Allen, Mr. William Henry    male   \n5   NaN        Q                                   Moran, Mr. James    male   \n6   E46        S                            McCarthy, Mr. Timothy J    male   \n7   NaN        S                     Palsson, Master. Gosta Leonard    male   \n8   NaN        S  Johnson, Mrs. Oscar W (Elisabeth Vilhelmina Berg)  female   \n9   NaN        C                Nasser, Mrs. Nicholas (Adele Achem)  female   \n\n             Ticket  \n0         A/5 21171  \n1          PC 17599  \n2  STON/O2. 3101282  \n3            113803  \n4            373450  \n5            330877  \n6             17463  \n7            349909  \n8            347742  \n9            237736  \n"
     ]
    }
   ],
   "source": [
    "\n",
    "# categorical attributes\n",
    "cat_train = X_train.drop(num_cols, axis=1)\n",
    "cat_test = X_test.drop(num_cols, axis=1)\n",
    "\n",
    "cat_train.fillna('NA', inplace=True)\n",
    "cat_test.fillna('NA', inplace=True)\n",
    "\n",
    "x_cat_train = cat_train.T.to_dict().values()\n",
    "x_cat_test = cat_test.T.to_dict().values()\n"
   ]
  },
  {
   "cell_type": "code",
   "execution_count": 15,
   "metadata": {},
   "outputs": [
    {
     "name": "stdout",
     "output_type": "stream",
     "text": [
      "  Cabin Embarked                                               Name     Sex  \\\n0   NaN        S                            Braund, Mr. Owen Harris    male   \n1   C85        C  Cumings, Mrs. John Bradley (Florence Briggs Th...  female   \n2   NaN        S                             Heikkinen, Miss. Laina  female   \n3  C123        S       Futrelle, Mrs. Jacques Heath (Lily May Peel)  female   \n4   NaN        S                           Allen, Mr. William Henry    male   \n5   NaN        Q                                   Moran, Mr. James    male   \n6   E46        S                            McCarthy, Mr. Timothy J    male   \n7   NaN        S                     Palsson, Master. Gosta Leonard    male   \n8   NaN        S  Johnson, Mrs. Oscar W (Elisabeth Vilhelmina Berg)  female   \n9   NaN        C                Nasser, Mrs. Nicholas (Adele Achem)  female   \n\n             Ticket  \n0         A/5 21171  \n1          PC 17599  \n2  STON/O2. 3101282  \n3            113803  \n4            373450  \n5            330877  \n6             17463  \n7            349909  \n8            347742  \n9            237736  \n"
     ]
    }
   ],
   "source": [
    "\n",
    "# # vectorize (encode as one hot)\n",
    "# vectorizer = DictVectorizer(sparse=False)\n",
    "# vec_x_cat_train = vectorizer.fit_transform(x_cat_train)\n",
    "# vec_x_cat_test = vectorizer.transform(x_cat_test)\n",
    "# \n",
    "# # build the feature vector\n",
    "# x_train = numpy.hstack((x_num_train, vec_x_cat_train))\n",
    "# x_test = numpy.hstack((x_num_test, vec_x_cat_test))\n",
    "\n",
    "x_train = x_num_train\n",
    "x_test = x_num_test"
   ]
  },
  {
   "cell_type": "code",
   "execution_count": 16,
   "metadata": {},
   "outputs": [
    {
     "name": "stderr",
     "output_type": "stream",
     "text": [
      "/Library/Frameworks/Python.framework/Versions/3.7/lib/python3.7/site-packages/sklearn/linear_model/logistic.py:433: FutureWarning: Default solver will be changed to 'lbfgs' in 0.22. Specify a solver to silence this warning.\n  FutureWarning)\n"
     ]
    },
    {
     "ename": "ValueError",
     "evalue": "Input contains NaN, infinity or a value too large for dtype('float64').",
     "traceback": [
      "\u001b[0;31m---------------------------------------------------------------------------\u001b[0m",
      "\u001b[0;31mValueError\u001b[0m                                Traceback (most recent call last)",
      "\u001b[0;32m<ipython-input-16-e9d33b719faa>\u001b[0m in \u001b[0;36m<module>\u001b[0;34m()\u001b[0m\n\u001b[1;32m      1\u001b[0m \u001b[0mmodel\u001b[0m \u001b[0;34m=\u001b[0m \u001b[0mLogisticRegression\u001b[0m\u001b[0;34m(\u001b[0m\u001b[0;34m)\u001b[0m\u001b[0;34m\u001b[0m\u001b[0;34m\u001b[0m\u001b[0m\n\u001b[0;32m----> 2\u001b[0;31m \u001b[0mmodel\u001b[0m\u001b[0;34m.\u001b[0m\u001b[0mfit\u001b[0m\u001b[0;34m(\u001b[0m\u001b[0mx_train\u001b[0m\u001b[0;34m,\u001b[0m \u001b[0my_train\u001b[0m\u001b[0;34m)\u001b[0m\u001b[0;34m\u001b[0m\u001b[0;34m\u001b[0m\u001b[0m\n\u001b[0m",
      "\u001b[0;32m/Library/Frameworks/Python.framework/Versions/3.7/lib/python3.7/site-packages/sklearn/linear_model/logistic.py\u001b[0m in \u001b[0;36mfit\u001b[0;34m(self, X, y, sample_weight)\u001b[0m\n\u001b[1;32m   1286\u001b[0m \u001b[0;34m\u001b[0m\u001b[0m\n\u001b[1;32m   1287\u001b[0m         X, y = check_X_y(X, y, accept_sparse='csr', dtype=_dtype, order=\"C\",\n\u001b[0;32m-> 1288\u001b[0;31m                          accept_large_sparse=solver != 'liblinear')\n\u001b[0m\u001b[1;32m   1289\u001b[0m         \u001b[0mcheck_classification_targets\u001b[0m\u001b[0;34m(\u001b[0m\u001b[0my\u001b[0m\u001b[0;34m)\u001b[0m\u001b[0;34m\u001b[0m\u001b[0;34m\u001b[0m\u001b[0m\n\u001b[1;32m   1290\u001b[0m         \u001b[0mself\u001b[0m\u001b[0;34m.\u001b[0m\u001b[0mclasses_\u001b[0m \u001b[0;34m=\u001b[0m \u001b[0mnp\u001b[0m\u001b[0;34m.\u001b[0m\u001b[0munique\u001b[0m\u001b[0;34m(\u001b[0m\u001b[0my\u001b[0m\u001b[0;34m)\u001b[0m\u001b[0;34m\u001b[0m\u001b[0;34m\u001b[0m\u001b[0m\n",
      "\u001b[0;32m/Library/Frameworks/Python.framework/Versions/3.7/lib/python3.7/site-packages/sklearn/utils/validation.py\u001b[0m in \u001b[0;36mcheck_X_y\u001b[0;34m(X, y, accept_sparse, accept_large_sparse, dtype, order, copy, force_all_finite, ensure_2d, allow_nd, multi_output, ensure_min_samples, ensure_min_features, y_numeric, warn_on_dtype, estimator)\u001b[0m\n\u001b[1;32m    754\u001b[0m                     \u001b[0mensure_min_features\u001b[0m\u001b[0;34m=\u001b[0m\u001b[0mensure_min_features\u001b[0m\u001b[0;34m,\u001b[0m\u001b[0;34m\u001b[0m\u001b[0;34m\u001b[0m\u001b[0m\n\u001b[1;32m    755\u001b[0m                     \u001b[0mwarn_on_dtype\u001b[0m\u001b[0;34m=\u001b[0m\u001b[0mwarn_on_dtype\u001b[0m\u001b[0;34m,\u001b[0m\u001b[0;34m\u001b[0m\u001b[0;34m\u001b[0m\u001b[0m\n\u001b[0;32m--> 756\u001b[0;31m                     estimator=estimator)\n\u001b[0m\u001b[1;32m    757\u001b[0m     \u001b[0;32mif\u001b[0m \u001b[0mmulti_output\u001b[0m\u001b[0;34m:\u001b[0m\u001b[0;34m\u001b[0m\u001b[0;34m\u001b[0m\u001b[0m\n\u001b[1;32m    758\u001b[0m         y = check_array(y, 'csr', force_all_finite=True, ensure_2d=False,\n",
      "\u001b[0;32m/Library/Frameworks/Python.framework/Versions/3.7/lib/python3.7/site-packages/sklearn/utils/validation.py\u001b[0m in \u001b[0;36mcheck_array\u001b[0;34m(array, accept_sparse, accept_large_sparse, dtype, order, copy, force_all_finite, ensure_2d, allow_nd, ensure_min_samples, ensure_min_features, warn_on_dtype, estimator)\u001b[0m\n\u001b[1;32m    571\u001b[0m         \u001b[0;32mif\u001b[0m \u001b[0mforce_all_finite\u001b[0m\u001b[0;34m:\u001b[0m\u001b[0;34m\u001b[0m\u001b[0;34m\u001b[0m\u001b[0m\n\u001b[1;32m    572\u001b[0m             _assert_all_finite(array,\n\u001b[0;32m--> 573\u001b[0;31m                                allow_nan=force_all_finite == 'allow-nan')\n\u001b[0m\u001b[1;32m    574\u001b[0m \u001b[0;34m\u001b[0m\u001b[0m\n\u001b[1;32m    575\u001b[0m     \u001b[0mshape_repr\u001b[0m \u001b[0;34m=\u001b[0m \u001b[0m_shape_repr\u001b[0m\u001b[0;34m(\u001b[0m\u001b[0marray\u001b[0m\u001b[0;34m.\u001b[0m\u001b[0mshape\u001b[0m\u001b[0;34m)\u001b[0m\u001b[0;34m\u001b[0m\u001b[0;34m\u001b[0m\u001b[0m\n",
      "\u001b[0;32m/Library/Frameworks/Python.framework/Versions/3.7/lib/python3.7/site-packages/sklearn/utils/validation.py\u001b[0m in \u001b[0;36m_assert_all_finite\u001b[0;34m(X, allow_nan)\u001b[0m\n\u001b[1;32m     54\u001b[0m                 not allow_nan and not np.isfinite(X).all()):\n\u001b[1;32m     55\u001b[0m             \u001b[0mtype_err\u001b[0m \u001b[0;34m=\u001b[0m \u001b[0;34m'infinity'\u001b[0m \u001b[0;32mif\u001b[0m \u001b[0mallow_nan\u001b[0m \u001b[0;32melse\u001b[0m \u001b[0;34m'NaN, infinity'\u001b[0m\u001b[0;34m\u001b[0m\u001b[0;34m\u001b[0m\u001b[0m\n\u001b[0;32m---> 56\u001b[0;31m             \u001b[0;32mraise\u001b[0m \u001b[0mValueError\u001b[0m\u001b[0;34m(\u001b[0m\u001b[0mmsg_err\u001b[0m\u001b[0;34m.\u001b[0m\u001b[0mformat\u001b[0m\u001b[0;34m(\u001b[0m\u001b[0mtype_err\u001b[0m\u001b[0;34m,\u001b[0m \u001b[0mX\u001b[0m\u001b[0;34m.\u001b[0m\u001b[0mdtype\u001b[0m\u001b[0;34m)\u001b[0m\u001b[0;34m)\u001b[0m\u001b[0;34m\u001b[0m\u001b[0;34m\u001b[0m\u001b[0m\n\u001b[0m\u001b[1;32m     57\u001b[0m \u001b[0;34m\u001b[0m\u001b[0m\n\u001b[1;32m     58\u001b[0m \u001b[0;34m\u001b[0m\u001b[0m\n",
      "\u001b[0;31mValueError\u001b[0m: Input contains NaN, infinity or a value too large for dtype('float64')."
     ],
     "output_type": "error"
    }
   ],
   "source": [
    "model = LogisticRegression()\n",
    "model.fit(x_train, y_train)"
   ]
  },
  {
   "cell_type": "code",
   "execution_count": null,
   "metadata": {},
   "outputs": [],
   "source": []
  }
 ],
 "metadata": {
  "kernelspec": {
   "display_name": "Python 2",
   "language": "python",
   "name": "python2"
  },
  "language_info": {
   "codemirror_mode": {
    "name": "ipython",
    "version": 2
   },
   "file_extension": ".py",
   "mimetype": "text/x-python",
   "name": "python",
   "nbconvert_exporter": "python",
   "pygments_lexer": "ipython2",
   "version": "2.7.6"
  }
 },
 "nbformat": 4,
 "nbformat_minor": 0
}
