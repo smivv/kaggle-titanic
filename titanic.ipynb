{
 "cells": [
  {
   "cell_type": "code",
   "execution_count": 107,
   "metadata": {
    "trusted": true,
    "_uuid": "473d493b2b3e54bf04bc8ad004874d54573001a7"
   },
   "outputs": [],
   "source": [
    "import os\n",
    "import re\n",
    "import numpy as np\n",
    "import pandas as pd\n",
    "import matplotlib.pyplot as plt\n",
    "\n",
    "from sklearn.feature_extraction.dict_vectorizer import DictVectorizer\n",
    "\n",
    "from sklearn.metrics.classification import classification_report, accuracy_score, confusion_matrix\n",
    "\n",
    "from sklearn.ensemble import RandomForestClassifier, VotingClassifier, BaggingClassifier, AdaBoostClassifier, GradientBoostingClassifier\n",
    "from sklearn.model_selection import RandomizedSearchCV, cross_val_score, train_test_split\n",
    "from sklearn.linear_model.logistic import LogisticRegression, LogisticRegressionCV\n",
    "from sklearn.naive_bayes import GaussianNB\n",
    "from sklearn.tree.tree import DecisionTreeClassifier\n",
    "from sklearn.svm import SVC\n",
    "from xgboost import XGBClassifier\n",
    "\n",
    "from sklearn.preprocessing import MinMaxScaler\n",
    "\n",
    "INPUT_DIR = './input'"
   ]
  },
  {
   "cell_type": "code",
   "execution_count": 108,
   "metadata": {
    "trusted": true,
    "_uuid": "18d35c4ba5bc92b7018f22161e42774e1f8b5d63"
   },
   "outputs": [],
   "source": [
    "# Define function to extract titles from passenger names\n",
    "def get_title(name):\n",
    "    title_search = re.search(' ([A-Za-z]+)\\.', name)\n",
    "    # If the title exists, extract and return it.\n",
    "    if title_search:\n",
    "        return title_search.group(1)\n",
    "    return \"\"\n",
    "\n",
    "\n",
    "def min_max_scale(train_data, test_data, cat_cols):\n",
    "    \n",
    "    data = pd.concat([train_data, test_data])\n",
    "    \n",
    "    # numeric attributes\n",
    "    num_data = data.drop(cat_cols, axis=1)\n",
    "    \n",
    "    # fit scaler on all data\n",
    "    scaler = MinMaxScaler().fit(num_data)\n",
    "    \n",
    "    # transform all data with scaler\n",
    "    train_data = scaler.transform(train_data.drop(cat_cols, axis=1))\n",
    "    test_data = scaler.transform(test_data.drop(cat_cols, axis=1))\n",
    "    \n",
    "    # scale to <0,1>\n",
    "    num_train_data = pd.DataFrame(train_data)\n",
    "    num_test_data = pd.DataFrame(test_data)\n",
    "\n",
    "    # fill nan with mean column values\n",
    "    num_train_data.fillna(data.mean(), inplace=True)\n",
    "    num_test_data.fillna(data.mean(), inplace=True)\n",
    "\n",
    "    return num_train_data, num_test_data\n",
    "\n",
    "\n",
    "def cat_vectorize(train_data, test_data, num_cols):\n",
    "    # categorical attributes\n",
    "    cat_train_data = train_data.drop(num_cols, axis=1)\n",
    "    cat_test_data = test_data.drop(num_cols, axis=1)\n",
    "\n",
    "    cat_train_data.fillna('NA', inplace=True)\n",
    "    cat_test_data.fillna('NA', inplace=True)\n",
    "\n",
    "    cat_train_data_values = cat_train_data.T.to_dict().values()\n",
    "    cat_test_data_values = cat_test_data.T.to_dict().values()\n",
    "\n",
    "    # vectorize (encode as one hot)\n",
    "    vectorizer = DictVectorizer(sparse=False)\n",
    "    vec_train_data = vectorizer.fit_transform(cat_train_data_values)\n",
    "    vec_test_data = vectorizer.transform(cat_test_data_values)\n",
    "\n",
    "    return vec_train_data, vec_test_data\n"
   ]
  },
  {
   "cell_type": "code",
   "execution_count": 109,
   "metadata": {
    "trusted": true,
    "_uuid": "b0d8420ae87d16181dc66f6ee2888ad55d14c6b3"
   },
   "outputs": [
    {
     "name": "stdout",
     "output_type": "stream",
     "text": [
      "   PassengerId  Survived  Pclass    ...        Fare Cabin  Embarked\n0            1         0       3    ...      7.2500   NaN         S\n1            2         1       1    ...     71.2833   C85         C\n2            3         1       3    ...      7.9250   NaN         S\n3            4         1       1    ...     53.1000  C123         S\n4            5         0       3    ...      8.0500   NaN         S\n\n[5 rows x 12 columns]\n"
     ]
    }
   ],
   "source": [
    "\"\"\" -------------------------------------- Data loading ---------------------------------------- \"\"\"\n",
    "\n",
    "# load dataframes\n",
    "df_train = pd.read_csv(os.path.join(INPUT_DIR, 'train.csv'))\n",
    "df_test = pd.read_csv(os.path.join(INPUT_DIR, 'test.csv'))\n",
    "\n",
    "df_full = [df_train, df_test]\n",
    "\n",
    "print(df_train.head())\n"
   ]
  },
  {
   "cell_type": "code",
   "execution_count": 110,
   "metadata": {
    "trusted": true,
    "_uuid": "726d585ec5b43f8edc85adf8dde053be72bcd01d"
   },
   "outputs": [
    {
     "name": "stdout",
     "output_type": "stream",
     "text": [
      "   PassengerId  Survived  Pclass  ...   FamilySize  IsAlone  Title\n0            1         0       3  ...            2        0      1\n1            2         1       1  ...            2        0      3\n2            3         1       3  ...            1        1      2\n3            4         1       1  ...            2        0      3\n4            5         0       3  ...            1        1      1\n5            6         0       3  ...            1        1      1\n6            7         0       1  ...            1        1      1\n7            8         0       3  ...            5        0      4\n8            9         1       3  ...            3        0      3\n9           10         1       2  ...            2        0      3\n\n[10 rows x 17 columns]\n"
     ]
    },
    {
     "name": "stderr",
     "output_type": "stream",
     "text": [
      "/opt/conda/lib/python3.6/site-packages/ipykernel_launcher.py:29: SettingWithCopyWarning: \nA value is trying to be set on a copy of a slice from a DataFrame\n\nSee the caveats in the documentation: http://pandas.pydata.org/pandas-docs/stable/indexing.html#indexing-view-versus-copy\n"
     ]
    }
   ],
   "source": [
    "\"\"\" -------------------------------------- Feature Engineering ---------------------------------------- \"\"\"\n",
    "\n",
    "for dataset in df_full:\n",
    "    dataset['Name_length'] = dataset['Name'].apply(len)\n",
    "\n",
    "    # Feature that tells whether a passenger had a cabin on the Titanic\n",
    "    dataset['Has_Cabin'] = dataset[\"Cabin\"].apply(lambda x: 0 if type(x) == float else 1)\n",
    "\n",
    "    # Create new feature FamilySize as a combination of SibSp and Parch\n",
    "    dataset['FamilySize'] = dataset['SibSp'] + dataset['Parch'] + 1\n",
    "\n",
    "    # Create new feature IsAlone from FamilySize\n",
    "    dataset['IsAlone'] = 0\n",
    "    dataset.loc[dataset['FamilySize'] == 1, 'IsAlone'] = 1\n",
    "\n",
    "    # Remove all NULLS in the Embarked column\n",
    "    dataset['Embarked'] = dataset['Embarked'].fillna('S')\n",
    "\n",
    "    # Remove all NULLS in the Fare column and create a new feature CategoricalFare\n",
    "    dataset['Fare'] = dataset['Fare'].fillna(df_train['Fare'].median())\n",
    "\n",
    "    # df_train['CategoricalFare'] = pandas.qcut(df_train['Fare'], 4)\n",
    "\n",
    "    # Create a New feature CategoricalAge\n",
    "    age_avg = dataset['Age'].mean()\n",
    "    age_std = dataset['Age'].std()\n",
    "    age_null_count = dataset['Age'].isnull().sum()\n",
    "    age_null_random_list = np.random.randint(age_avg - age_std, age_avg + age_std, size=age_null_count)\n",
    "    dataset['Age'][np.isnan(dataset['Age'])] = age_null_random_list\n",
    "    dataset['Age'] = dataset['Age'].astype(int)\n",
    "\n",
    "    # df_train['CategoricalAge'] = pandas.cut(df_train['Age'], 5)\n",
    "\n",
    "    # Create a new feature Title, containing the titles of passenger names\n",
    "    dataset['Title'] = dataset['Name'].apply(get_title)\n",
    "\n",
    "    # Group all non-common titles into one single grouping \"Rare\"\n",
    "    dataset['Title'] = dataset['Title'].replace(\n",
    "        ['Lady', 'Countess', 'Capt', 'Col', 'Don', 'Dr', 'Major', 'Rev', 'Sir', 'Jonkheer', 'Dona'], 'Rare')\n",
    "\n",
    "    dataset['Title'] = dataset['Title'].replace('Mlle', 'Miss')\n",
    "    dataset['Title'] = dataset['Title'].replace('Ms', 'Miss')\n",
    "    dataset['Title'] = dataset['Title'].replace('Mme', 'Mrs')\n",
    "\n",
    "    # Mapping Sex\n",
    "    dataset['Sex'] = dataset['Sex'].map({'female': 0, 'male': 1}).astype(int)\n",
    "\n",
    "    # Mapping titles\n",
    "    title_mapping = {\"Mr\": 1, \"Miss\": 2, \"Mrs\": 3, \"Master\": 4, \"Rare\": 5}\n",
    "    dataset['Title'] = dataset['Title'].map(title_mapping)\n",
    "    dataset['Title'] = dataset['Title'].fillna(0)\n",
    "\n",
    "    # Mapping Embarked\n",
    "    dataset['Embarked'] = dataset['Embarked'].map({'S': 0, 'C': 1, 'Q': 2}).astype(int)\n",
    "\n",
    "    # Mapping Fare\n",
    "    dataset.loc[dataset['Fare'] <= 7.91, 'Fare'] = 0\n",
    "    dataset.loc[(dataset['Fare'] > 7.91) & (dataset['Fare'] <= 14.454), 'Fare'] = 1\n",
    "    dataset.loc[(dataset['Fare'] > 14.454) & (dataset['Fare'] <= 31), 'Fare'] = 2\n",
    "    dataset.loc[dataset['Fare'] > 31, 'Fare'] = 3\n",
    "    dataset['Fare'] = dataset['Fare'].astype(int)\n",
    "\n",
    "    # Mapping Age\n",
    "    dataset.loc[dataset['Age'] <= 16, 'Age'] = 0\n",
    "    dataset.loc[(dataset['Age'] > 16) & (dataset['Age'] <= 32), 'Age'] = 1\n",
    "    dataset.loc[(dataset['Age'] > 32) & (dataset['Age'] <= 48), 'Age'] = 2\n",
    "    dataset.loc[(dataset['Age'] > 48) & (dataset['Age'] <= 64), 'Age'] = 3\n",
    "    dataset.loc[dataset['Age'] > 64, 'Age'] = 4\n",
    "\n",
    "print(df_train.head(10))"
   ]
  },
  {
   "cell_type": "code",
   "execution_count": 111,
   "metadata": {
    "trusted": true,
    "_uuid": "aaa97e415af398d8b76e58601d69fe8f805ebb91"
   },
   "outputs": [
    {
     "name": "stdout",
     "output_type": "stream",
     "text": [
      "['PassengerId', 'Pclass', 'Sex', 'Age', 'SibSp', 'Parch', 'Fare', 'Embarked', 'Name_length', 'Has_Cabin', 'FamilySize', 'IsAlone', 'Title'] ['Name', 'Ticket', 'Cabin']\n"
     ]
    },
    {
     "name": "stderr",
     "output_type": "stream",
     "text": [
      "/opt/conda/lib/python3.6/site-packages/sklearn/preprocessing/data.py:334: DataConversionWarning: Data with input dtype int64 were all converted to float64 by MinMaxScaler.\n  return self.partial_fit(X, y)\n"
     ]
    }
   ],
   "source": [
    "\"\"\" -------------------------------------- Feature preparation ---------------------------------------- \"\"\"\n",
    "\n",
    "label_column = 'Survived'\n",
    "\n",
    "# get all column names\n",
    "cols = list(df_train.columns.values)\n",
    "\n",
    "# numeric columns\n",
    "num_cols = [e for e in df_train.select_dtypes(include=[np.number]).columns.tolist() if e != label_column]\n",
    "\n",
    "# categorical columns\n",
    "cat_cols = [e for e in cols if e not in num_cols and e != label_column]\n",
    "\n",
    "print(num_cols, cat_cols)\n",
    "\n",
    "x_train, y_train = df_train.drop(label_column, axis=1), df_train[label_column]\n",
    "x_test = df_test\n",
    "\n",
    "# scale everything to [0, 1]\n",
    "x_num_train, x_num_test = min_max_scale(x_train, x_test, cat_cols)\n",
    "\n",
    "# vectorize categorical columns\n",
    "vec_x_cat_train, vec_x_cat_test = cat_vectorize(x_train, x_test, num_cols)\n",
    "\n",
    "# build the feature vector\n",
    "x_train = np.hstack((x_num_train, vec_x_cat_train))\n",
    "x_test = np.hstack((x_num_test, vec_x_cat_test))\n",
    "\n",
    "# labels or target attribute\n",
    "y_train = y_train.astype(int)"
   ]
  },
  {
   "cell_type": "code",
   "execution_count": 112,
   "metadata": {
    "trusted": true,
    "_uuid": "51163a466131dd9d9ee414f88f803219117505af"
   },
   "outputs": [
    {
     "data": {
      "text/plain": [
       "' -------------------------------------- Cross validation ---------------------------------------- '"
      ]
     },
     "execution_count": 112,
     "metadata": {},
     "output_type": "execute_result"
    }
   ],
   "source": [
    "\"\"\" -------------------------------------- Cross validation ---------------------------------------- \"\"\"\n",
    "\n",
    "# split the data into train and test\n",
    "# x_train, x_test, y_train, y_test = train_test_split(x_train, y_train, test_size=0.2)"
   ]
  },
  {
   "cell_type": "code",
   "execution_count": 115,
   "metadata": {
    "trusted": true,
    "_uuid": "90d0738acf8fab51a4bc327459177e66e0ec271f"
   },
   "outputs": [],
   "source": [
    "\"\"\" ---------------------------------- Grid params initialization ----------------------------------- \"\"\"\n",
    "cv = 10\n",
    "n_iter = 100\n",
    "\n",
    "MODELS = {\n",
    "#     'lr': {\n",
    "#         'model': LogisticRegression,\n",
    "#         'params': {\n",
    "#             'fit_intercept': [True, False],\n",
    "#             'multi_class': ['ovr'],\n",
    "#             'penalty': ['l2'],\n",
    "#             'solver': ['newton-cg', 'lbfgs', 'liblinear', 'sag', 'saga'],\n",
    "#             'tol': [0.01, 0.05, 0.1, 0.5, 1, 5]\n",
    "#         }\n",
    "#     },\n",
    "    'lrcv': {\n",
    "        'model': LogisticRegressionCV,\n",
    "        'params': {\n",
    "            'Cs': [1, 2, 4, 8, 16, 32],\n",
    "            'fit_intercept': [True, False],\n",
    "            'refit': [True, False],\n",
    "            'multi_class': ['ovr'],\n",
    "            'penalty': ['l2'],\n",
    "            'solver': ['newton-cg', 'lbfgs', 'liblinear', 'sag', 'saga'],\n",
    "            'tol': [0.01, 0.05, 0.1, 0.5, 1, 5],\n",
    "            'cv': [cv]\n",
    "        },\n",
    "#         'best_params': {'tol': 0.05, 'solver': 'newton-cg', 'refit': True, 'penalty': 'l2', 'multi_class': 'ovr', 'fit_intercept': False, 'cv': 4, 'Cs': 2},\n",
    "#         'best_score': 0.8428731762065096\n",
    "    },\n",
    "    'svc': {\n",
    "        'model': SVC,\n",
    "        'params': {\n",
    "            'C': [0.1, 0.5, 1., 2., 4.],\n",
    "            'kernel': ['linear', 'poly', 'rbf', 'sigmoid'],\n",
    "            'gamma': ['auto', 'scale'],\n",
    "            'degree': range(5),\n",
    "            'shrinking': [True, False],\n",
    "            'probability': [True, False],\n",
    "            'tol': [0.01, 0.05, 0.1, 0.5, 1, 5],\n",
    "        },\n",
    "#         'best_params': {'tol': 0.5, 'shrinking': False, 'probability': True, 'kernel': 'rbf', 'gamma': 'scale', 'degree': 2, 'C': 4.0},\n",
    "#         'best_score': 0.8496071829405163\n",
    "    },\n",
    "    'dt': {\n",
    "        'model': DecisionTreeClassifier,\n",
    "        'params': {\n",
    "            'criterion': ['gini', 'entropy'],\n",
    "            'max_depth': range(6, 10),\n",
    "            'max_features': ['auto', 'sqrt', 'log2', None],\n",
    "            'min_samples_split': [2, 5, 10], # Minimum number of samples required to split a node\n",
    "            'min_samples_leaf': [1, 2, 4], # Minimum number of samples required at each leaf node\n",
    "        }\n",
    "    },\n",
    "    'rf': {\n",
    "        'model': RandomForestClassifier,\n",
    "        'params': {\n",
    "            'n_estimators': range(5, 20),\n",
    "            'max_features': ['auto', 'sqrt', 'log2', None],\n",
    "            'max_depth': range(5, 20),\n",
    "            'min_samples_split': [2, 5, 10], # Minimum number of samples required to split a node\n",
    "            'min_samples_leaf': [1, 2, 4], # Minimum number of samples required at each leaf node\n",
    "            'bootstrap': [True, False] # Method of selecting samples for training each tree\n",
    "        }\n",
    "    },\n",
    "#     'xgb': {\n",
    "#         'model': XGBClassifier,\n",
    "#         'params': {\n",
    "#             'n_estimators': range(8, 20),\n",
    "#             'max_depth': range(6, 10),\n",
    "#             'learning_rate': [.4, .45, .5, .55, .6],\n",
    "#             'colsample_bytree': [.6, .7, .8, .9, 1]\n",
    "#         }\n",
    "#     }\n",
    "}"
   ]
  },
  {
   "cell_type": "code",
   "execution_count": null,
   "metadata": {
    "trusted": true,
    "_uuid": "b74179cbe7effc051957c8a3a6543b8d548a0126"
   },
   "outputs": [
    {
     "name": "stdout",
     "output_type": "stream",
     "text": [
      "Fitting lrcv...\nFitting 10 folds for each of 100 candidates, totalling 1000 fits\n"
     ]
    },
    {
     "name": "stderr",
     "output_type": "stream",
     "text": [
      "[Parallel(n_jobs=1)]: Using backend SequentialBackend with 1 concurrent workers.\n"
     ]
    }
   ],
   "source": [
    "\"\"\" -------------------------------------- Best Linear Regression search ---------------------------------------- \"\"\"\n",
    "\n",
    "for k, model in MODELS.items():\n",
    "    \n",
    "    if 'best_score' in model:\n",
    "        # Initialize with best parameters & fit to data\n",
    "        print(f'Fitting {k}...')\n",
    "        model['best_estimator'] = model['model'](**model['best_params']).fit(x_train, y_train)\n",
    "        \n",
    "        scores = cross_val_score(model['best_estimator'], x_train, y_train, cv=cv)\n",
    "        score = sum(scores) / len(scores)\n",
    "        diff = score - model['best_score']\n",
    "        if diff > 0:\n",
    "            print(f'Accuracy of model {k}: {score} (BIGGER for {diff})')\n",
    "            \n",
    "        elif diff < 0:\n",
    "            print(f'Accuracy of model {k}: {score} (SMALLER for {-diff})')\n",
    "        else:\n",
    "            print(f'Accuracy of model {k}: {score} (SAME)')\n",
    "    else:\n",
    "        # Perform random search\n",
    "        searcher = RandomizedSearchCV(param_distributions=model['params'],\n",
    "                                      estimator=model['model'](), scoring=\"accuracy\",\n",
    "                                      verbose=1, n_iter=n_iter, cv=cv)\n",
    "        # Fit to data\n",
    "        print(f'Fitting {k}...')    \n",
    "        searcher.fit(x_train, y_train)\n",
    "\n",
    "        # Print the best parameters and best accuracy\n",
    "        print(f'Best parameters found for {k}: {searcher.best_params_}')\n",
    "        print(f'Best accuracy found {k}: {searcher.best_score_}')\n",
    "\n",
    "        model['best_estimator'] = searcher.best_estimator_\n",
    "        model['best_params'] = searcher.best_params_\n",
    "        model['best_score'] = searcher.best_score_\n",
    "    "
   ]
  },
  {
   "cell_type": "code",
   "execution_count": null,
   "metadata": {
    "trusted": true,
    "_uuid": "60037af207e2382137bde8e0cbb72014fda9cd40"
   },
   "outputs": [],
   "source": [
    "\"\"\" -------------------------------------- Fitting Voting classifier ---------------------------------------- \"\"\"\n",
    "\n",
    "# vc = VotingClassifier(estimators=[(k, v['best_estimator']) for k, v in MODELS.items()], voting='soft')\n",
    "vc = VotingClassifier(estimators=[('lrcv', MODELS['lrcv']['best_estimator']), \n",
    "                                  ('svc', MODELS['svc']['best_estimator']),\n",
    "                                  ('rf', MODELS['rf']['best_estimator'])], voting='soft')\n",
    "vc = vc.fit(x_train, y_train)\n",
    "\n",
    "scores = cross_val_score(vc, x_train, y_train, cv=cv)\n",
    "score = sum(scores) / len(scores)\n",
    "print(f'Accuracy of voting classifier: {score}')"
   ]
  },
  {
   "cell_type": "code",
   "execution_count": null,
   "metadata": {
    "trusted": true,
    "_uuid": "ea8f171b83222c9d83b5b852e53a69a90259f571"
   },
   "outputs": [],
   "source": [
    "\"\"\" -------------------------------------- Fitting Bagging classifier ---------------------------------------- \"\"\"\n",
    "\n",
    "vc = BaggingClassifier([(k, v['best_estimator']) for k, v in MODELS.items()], voting='soft')\n",
    "# vc = BaggingClassifier(estimators=[('lrcv', MODELS['lrcv']['best_estimator']), \n",
    "#                                   ('svc', MODELS['svc']['best_estimator']),\n",
    "#                                   ('rf', MODELS['rf']['best_estimator'])], voting='soft')\n",
    "vc = vc.fit(x_train, y_train)\n",
    "\n",
    "scores = cross_val_score(vc, x_train, y_train, cv=cv)\n",
    "score = sum(scores) / len(scores)\n",
    "print(f'Accuracy of voting classifier: {score}')"
   ]
  },
  {
   "cell_type": "code",
   "execution_count": null,
   "metadata": {
    "trusted": true,
    "_uuid": "694982f5e35c52c17fdb1175bcc2e0cb3f77c5b0"
   },
   "outputs": [],
   "source": [
    "pred = MODELS[max(MODELS, key=lambda k: MODELS[k]['best_score'])]['best_estimator'].predict(x_test)\n",
    "submission = pd.DataFrame({'PassengerId': df_test['PassengerId'], 'Survived': pred})\n",
    "submission.to_csv('gender_submission.csv', index=False)"
   ]
  },
  {
   "cell_type": "code",
   "execution_count": null,
   "metadata": {
    "trusted": true,
    "_uuid": "c44988b443a9408be83d1ffb89a4551eeaab7edf"
   },
   "outputs": [],
   "source": [
    ""
   ]
  }
 ],
 "metadata": {
  "kernelspec": {
   "display_name": "Python 3",
   "language": "python",
   "name": "python3"
  },
  "language_info": {
   "name": "python",
   "version": "3.6.6",
   "mimetype": "text/x-python",
   "codemirror_mode": {
    "name": "ipython",
    "version": 3
   },
   "pygments_lexer": "ipython3",
   "nbconvert_exporter": "python",
   "file_extension": ".py"
  }
 },
 "nbformat": 4,
 "nbformat_minor": 1
}
